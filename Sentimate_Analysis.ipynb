{
 "cells": [
  {
   "cell_type": "code",
   "execution_count": 1,
   "id": "27886297-4583-4866-b56d-f5462755f2b8",
   "metadata": {},
   "outputs": [],
   "source": [
    "import pandas as pd\n",
    "import numpy as np\n",
    "import matplotlib.pyplot as plt\n",
    "import seaborn as sns\n",
    "plt.style.use('ggplot')\n",
    "\n",
    "## !conda install -c anaconda nltk -y\n",
    "import nltk\n",
    "\n",
    "\n",
    "import warnings\n",
    "warnings.filterwarnings('ignore')\n",
    "## nltk.download('punkt_tab')\n",
    "## nltk.download('stopwords')"
   ]
  },
  {
   "cell_type": "code",
   "execution_count": 2,
   "id": "3bd2b50c-54e5-4ff4-bb83-abe4421c1215",
   "metadata": {},
   "outputs": [
    {
     "data": {
      "text/html": [
       "<div>\n",
       "<style scoped>\n",
       "    .dataframe tbody tr th:only-of-type {\n",
       "        vertical-align: middle;\n",
       "    }\n",
       "\n",
       "    .dataframe tbody tr th {\n",
       "        vertical-align: top;\n",
       "    }\n",
       "\n",
       "    .dataframe thead th {\n",
       "        text-align: right;\n",
       "    }\n",
       "</style>\n",
       "<table border=\"1\" class=\"dataframe\">\n",
       "  <thead>\n",
       "    <tr style=\"text-align: right;\">\n",
       "      <th></th>\n",
       "      <th>Id</th>\n",
       "      <th>ProductId</th>\n",
       "      <th>UserId</th>\n",
       "      <th>ProfileName</th>\n",
       "      <th>HelpfulnessNumerator</th>\n",
       "      <th>HelpfulnessDenominator</th>\n",
       "      <th>Score</th>\n",
       "      <th>Time</th>\n",
       "      <th>Summary</th>\n",
       "      <th>Text</th>\n",
       "    </tr>\n",
       "  </thead>\n",
       "  <tbody>\n",
       "    <tr>\n",
       "      <th>0</th>\n",
       "      <td>1</td>\n",
       "      <td>B001E4KFG0</td>\n",
       "      <td>A3SGXH7AUHU8GW</td>\n",
       "      <td>delmartian</td>\n",
       "      <td>1</td>\n",
       "      <td>1</td>\n",
       "      <td>5</td>\n",
       "      <td>1303862400</td>\n",
       "      <td>Good Quality Dog Food</td>\n",
       "      <td>I have bought several of the Vitality canned d...</td>\n",
       "    </tr>\n",
       "    <tr>\n",
       "      <th>1</th>\n",
       "      <td>2</td>\n",
       "      <td>B00813GRG4</td>\n",
       "      <td>A1D87F6ZCVE5NK</td>\n",
       "      <td>dll pa</td>\n",
       "      <td>0</td>\n",
       "      <td>0</td>\n",
       "      <td>1</td>\n",
       "      <td>1346976000</td>\n",
       "      <td>Not as Advertised</td>\n",
       "      <td>Product arrived labeled as Jumbo Salted Peanut...</td>\n",
       "    </tr>\n",
       "    <tr>\n",
       "      <th>2</th>\n",
       "      <td>3</td>\n",
       "      <td>B000LQOCH0</td>\n",
       "      <td>ABXLMWJIXXAIN</td>\n",
       "      <td>Natalia Corres \"Natalia Corres\"</td>\n",
       "      <td>1</td>\n",
       "      <td>1</td>\n",
       "      <td>4</td>\n",
       "      <td>1219017600</td>\n",
       "      <td>\"Delight\" says it all</td>\n",
       "      <td>This is a confection that has been around a fe...</td>\n",
       "    </tr>\n",
       "    <tr>\n",
       "      <th>3</th>\n",
       "      <td>4</td>\n",
       "      <td>B000UA0QIQ</td>\n",
       "      <td>A395BORC6FGVXV</td>\n",
       "      <td>Karl</td>\n",
       "      <td>3</td>\n",
       "      <td>3</td>\n",
       "      <td>2</td>\n",
       "      <td>1307923200</td>\n",
       "      <td>Cough Medicine</td>\n",
       "      <td>If you are looking for the secret ingredient i...</td>\n",
       "    </tr>\n",
       "    <tr>\n",
       "      <th>4</th>\n",
       "      <td>5</td>\n",
       "      <td>B006K2ZZ7K</td>\n",
       "      <td>A1UQRSCLF8GW1T</td>\n",
       "      <td>Michael D. Bigham \"M. Wassir\"</td>\n",
       "      <td>0</td>\n",
       "      <td>0</td>\n",
       "      <td>5</td>\n",
       "      <td>1350777600</td>\n",
       "      <td>Great taffy</td>\n",
       "      <td>Great taffy at a great price.  There was a wid...</td>\n",
       "    </tr>\n",
       "  </tbody>\n",
       "</table>\n",
       "</div>"
      ],
      "text/plain": [
       "   Id   ProductId          UserId                      ProfileName  \\\n",
       "0   1  B001E4KFG0  A3SGXH7AUHU8GW                       delmartian   \n",
       "1   2  B00813GRG4  A1D87F6ZCVE5NK                           dll pa   \n",
       "2   3  B000LQOCH0   ABXLMWJIXXAIN  Natalia Corres \"Natalia Corres\"   \n",
       "3   4  B000UA0QIQ  A395BORC6FGVXV                             Karl   \n",
       "4   5  B006K2ZZ7K  A1UQRSCLF8GW1T    Michael D. Bigham \"M. Wassir\"   \n",
       "\n",
       "   HelpfulnessNumerator  HelpfulnessDenominator  Score        Time  \\\n",
       "0                     1                       1      5  1303862400   \n",
       "1                     0                       0      1  1346976000   \n",
       "2                     1                       1      4  1219017600   \n",
       "3                     3                       3      2  1307923200   \n",
       "4                     0                       0      5  1350777600   \n",
       "\n",
       "                 Summary                                               Text  \n",
       "0  Good Quality Dog Food  I have bought several of the Vitality canned d...  \n",
       "1      Not as Advertised  Product arrived labeled as Jumbo Salted Peanut...  \n",
       "2  \"Delight\" says it all  This is a confection that has been around a fe...  \n",
       "3         Cough Medicine  If you are looking for the secret ingredient i...  \n",
       "4            Great taffy  Great taffy at a great price.  There was a wid...  "
      ]
     },
     "execution_count": 2,
     "metadata": {},
     "output_type": "execute_result"
    }
   ],
   "source": [
    "dt = pd.read_csv(\"C:/Users/rsing/Downloads/Amazon_Review_csv.csv\")\n",
    "dt.head(5)"
   ]
  },
  {
   "cell_type": "code",
   "execution_count": 3,
   "id": "09c70e3b-175d-438a-9451-c5015500706a",
   "metadata": {},
   "outputs": [],
   "source": [
    "df= dt.head(2500)"
   ]
  },
  {
   "cell_type": "code",
   "execution_count": 4,
   "id": "df2eec38-01b8-4319-84eb-8e73a6d1b36f",
   "metadata": {},
   "outputs": [
    {
     "data": {
      "text/plain": [
       "(2500, 10)"
      ]
     },
     "execution_count": 4,
     "metadata": {},
     "output_type": "execute_result"
    }
   ],
   "source": [
    "df.shape"
   ]
  },
  {
   "cell_type": "code",
   "execution_count": 5,
   "id": "59c4fd8e-790c-4ee2-bacc-1e282459db9e",
   "metadata": {},
   "outputs": [
    {
     "data": {
      "text/plain": [
       "'I have bought several of the Vitality canned dog food products and have found them all to be of good quality. The product looks more like a stew than a processed meat and it smells better. My Labrador is finicky and she appreciates this product better than  most.'"
      ]
     },
     "execution_count": 5,
     "metadata": {},
     "output_type": "execute_result"
    }
   ],
   "source": [
    "df['Text'].values[0]"
   ]
  },
  {
   "cell_type": "code",
   "execution_count": 6,
   "id": "ebcc7421-e926-4751-a830-dabbb0839404",
   "metadata": {},
   "outputs": [
    {
     "data": {
      "text/plain": [
       "(2500, 10)"
      ]
     },
     "execution_count": 6,
     "metadata": {},
     "output_type": "execute_result"
    }
   ],
   "source": [
    "df.shape"
   ]
  },
  {
   "cell_type": "code",
   "execution_count": 7,
   "id": "380264fa-dfbd-4f38-a5f9-4b626ace868f",
   "metadata": {},
   "outputs": [
    {
     "data": {
      "image/png": "[encoded data removed]",
      "text/plain": [
       "<Figure size 1000x300 with 1 Axes>"
      ]
     },
     "metadata": {},
     "output_type": "display_data"
    }
   ],
   "source": [
    "ax = df['Score'].value_counts().sort_index()\\\n",
    "    .plot(kind='bar', figsize=(10,3), color = 'purple', alpha=0.5)\n",
    "ax.set_xlabel('Star Score')\n",
    "ax.set_ylabel('Number of Reviews')\n",
    "ax.set_title('Distribution of Star Ratings')\n",
    "plt.show()"
   ]
  },
  {
   "cell_type": "code",
   "execution_count": 8,
   "id": "16e69168-131d-47c4-bfb7-cca73143eb9f",
   "metadata": {},
   "outputs": [
    {
     "data": {
      "text/plain": [
       "\"I don't know if it's the cactus or the tequila or just the unique combination of ingredients, but the flavour of this hot sauce makes it one of a kind!  We picked up a bottle once on a trip we were on and brought it back home with us and were totally blown away!  When we realized that we simply couldn't find it anywhere in our city we were bummed.<br /><br />Now, because of the magic of the internet, we have a case of the sauce and are ecstatic because of it.<br /><br />If you love hot sauce..I mean really love hot sauce, but don't want a sauce that tastelessly burns your throat, grab a bottle of Tequila Picante Gourmet de Inclan.  Just realize that once you taste it, you will never want to use any other sauce.<br /><br />Thank you for the personal, incredible service!\""
      ]
     },
     "execution_count": 8,
     "metadata": {},
     "output_type": "execute_result"
    }
   ],
   "source": [
    "## Basic Nltk\n",
    "ex = df['Text'][10]\n",
    "ex"
   ]
  },
  {
   "cell_type": "code",
   "execution_count": 9,
   "id": "c61ba8e0-7161-4819-98a2-2e7675339cf1",
   "metadata": {},
   "outputs": [
    {
     "data": {
      "text/plain": [
       "['I',\n",
       " 'do',\n",
       " \"n't\",\n",
       " 'know',\n",
       " 'if',\n",
       " 'it',\n",
       " \"'s\",\n",
       " 'the',\n",
       " 'cactus',\n",
       " 'or',\n",
       " 'the',\n",
       " 'tequila',\n",
       " 'or',\n",
       " 'just',\n",
       " 'the',\n",
       " 'unique',\n",
       " 'combination',\n",
       " 'of',\n",
       " 'ingredients',\n",
       " ',',\n",
       " 'but',\n",
       " 'the',\n",
       " 'flavour',\n",
       " 'of',\n",
       " 'this',\n",
       " 'hot',\n",
       " 'sauce',\n",
       " 'makes',\n",
       " 'it',\n",
       " 'one',\n",
       " 'of',\n",
       " 'a',\n",
       " 'kind',\n",
       " '!',\n",
       " 'We',\n",
       " 'picked',\n",
       " 'up',\n",
       " 'a',\n",
       " 'bottle',\n",
       " 'once',\n",
       " 'on',\n",
       " 'a',\n",
       " 'trip',\n",
       " 'we',\n",
       " 'were',\n",
       " 'on',\n",
       " 'and',\n",
       " 'brought',\n",
       " 'it',\n",
       " 'back',\n",
       " 'home',\n",
       " 'with',\n",
       " 'us',\n",
       " 'and',\n",
       " 'were',\n",
       " 'totally',\n",
       " 'blown',\n",
       " 'away',\n",
       " '!',\n",
       " 'When',\n",
       " 'we',\n",
       " 'realized',\n",
       " 'that',\n",
       " 'we',\n",
       " 'simply',\n",
       " 'could',\n",
       " \"n't\",\n",
       " 'find',\n",
       " 'it',\n",
       " 'anywhere',\n",
       " 'in',\n",
       " 'our',\n",
       " 'city',\n",
       " 'we',\n",
       " 'were',\n",
       " 'bummed.',\n",
       " '<',\n",
       " 'br',\n",
       " '/',\n",
       " '>',\n",
       " '<',\n",
       " 'br',\n",
       " '/',\n",
       " '>',\n",
       " 'Now',\n",
       " ',',\n",
       " 'because',\n",
       " 'of',\n",
       " 'the',\n",
       " 'magic',\n",
       " 'of',\n",
       " 'the',\n",
       " 'internet',\n",
       " ',',\n",
       " 'we',\n",
       " 'have',\n",
       " 'a',\n",
       " 'case',\n",
       " 'of',\n",
       " 'the',\n",
       " 'sauce',\n",
       " 'and',\n",
       " 'are',\n",
       " 'ecstatic',\n",
       " 'because',\n",
       " 'of',\n",
       " 'it.',\n",
       " '<',\n",
       " 'br',\n",
       " '/',\n",
       " '>',\n",
       " '<',\n",
       " 'br',\n",
       " '/',\n",
       " '>',\n",
       " 'If',\n",
       " 'you',\n",
       " 'love',\n",
       " 'hot',\n",
       " 'sauce',\n",
       " '..',\n",
       " 'I',\n",
       " 'mean',\n",
       " 'really',\n",
       " 'love',\n",
       " 'hot',\n",
       " 'sauce',\n",
       " ',',\n",
       " 'but',\n",
       " 'do',\n",
       " \"n't\",\n",
       " 'want',\n",
       " 'a',\n",
       " 'sauce',\n",
       " 'that',\n",
       " 'tastelessly',\n",
       " 'burns',\n",
       " 'your',\n",
       " 'throat',\n",
       " ',',\n",
       " 'grab',\n",
       " 'a',\n",
       " 'bottle',\n",
       " 'of',\n",
       " 'Tequila',\n",
       " 'Picante',\n",
       " 'Gourmet',\n",
       " 'de',\n",
       " 'Inclan',\n",
       " '.',\n",
       " 'Just',\n",
       " 'realize',\n",
       " 'that',\n",
       " 'once',\n",
       " 'you',\n",
       " 'taste',\n",
       " 'it',\n",
       " ',',\n",
       " 'you',\n",
       " 'will',\n",
       " 'never',\n",
       " 'want',\n",
       " 'to',\n",
       " 'use',\n",
       " 'any',\n",
       " 'other',\n",
       " 'sauce.',\n",
       " '<',\n",
       " 'br',\n",
       " '/',\n",
       " '>',\n",
       " '<',\n",
       " 'br',\n",
       " '/',\n",
       " '>',\n",
       " 'Thank',\n",
       " 'you',\n",
       " 'for',\n",
       " 'the',\n",
       " 'personal',\n",
       " ',',\n",
       " 'incredible',\n",
       " 'service',\n",
       " '!']"
      ]
     },
     "execution_count": 9,
     "metadata": {},
     "output_type": "execute_result"
    }
   ],
   "source": [
    "import nltk\n",
    "from nltk.tokenize import word_tokenize\n",
    "\n",
    "nltk.word_tokenize(ex)"
   ]
  },
  {
   "cell_type": "code",
   "execution_count": 10,
   "id": "17c75603-75b8-488c-af25-53adb3590d12",
   "metadata": {},
   "outputs": [
    {
     "data": {
      "text/plain": [
       "['I', 'do', \"n't\", 'know', 'if', 'it', \"'s\", 'the', 'cactus', 'or']"
      ]
     },
     "execution_count": 10,
     "metadata": {},
     "output_type": "execute_result"
    }
   ],
   "source": [
    "token = nltk.word_tokenize(ex)\n",
    "token[:10]"
   ]
  },
  {
   "cell_type": "code",
   "execution_count": 11,
   "id": "d8f2b88d-a65b-42f4-b7c6-f14a25261f27",
   "metadata": {},
   "outputs": [
    {
     "name": "stderr",
     "output_type": "stream",
     "text": [
      "[nltk_data] Downloading package averaged_perceptron_tagger_eng to\n",
      "[nltk_data]     C:\\Users\\rsing\\AppData\\Roaming\\nltk_data...\n",
      "[nltk_data]   Package averaged_perceptron_tagger_eng is already up-to-\n",
      "[nltk_data]       date!\n"
     ]
    },
    {
     "data": {
      "text/plain": [
       "True"
      ]
     },
     "execution_count": 11,
     "metadata": {},
     "output_type": "execute_result"
    }
   ],
   "source": [
    "import nltk\n",
    "nltk.download('averaged_perceptron_tagger_eng')"
   ]
  },
  {
   "cell_type": "code",
   "execution_count": 12,
   "id": "9e3f1961-f6d0-4459-9314-760ead6d26a6",
   "metadata": {},
   "outputs": [
    {
     "data": {
      "text/plain": [
       "[('I', 'PRP'),\n",
       " ('do', 'VBP'),\n",
       " (\"n't\", 'RB'),\n",
       " ('know', 'VB'),\n",
       " ('if', 'IN'),\n",
       " ('it', 'PRP'),\n",
       " (\"'s\", 'VBZ'),\n",
       " ('the', 'DT'),\n",
       " ('cactus', 'NN'),\n",
       " ('or', 'CC')]"
      ]
     },
     "execution_count": 12,
     "metadata": {},
     "output_type": "execute_result"
    }
   ],
   "source": [
    "tagged = nltk.pos_tag(token)\n",
    "tag = tagged[:10]\n",
    "tag"
   ]
  },
  {
   "cell_type": "code",
   "execution_count": 13,
   "id": "4ec152dd-9186-4fb2-b44d-a4a65c1e633c",
   "metadata": {},
   "outputs": [],
   "source": [
    "# import nltk\n",
    "# nltk.download('all')"
   ]
  },
  {
   "cell_type": "code",
   "execution_count": 14,
   "id": "b06d7fa4-3e9c-41fa-b9cb-f8123b5fa782",
   "metadata": {},
   "outputs": [
    {
     "name": "stdout",
     "output_type": "stream",
     "text": [
      "(S\n",
      "  I/PRP\n",
      "  do/VBP\n",
      "  n't/RB\n",
      "  know/VB\n",
      "  if/IN\n",
      "  it/PRP\n",
      "  's/VBZ\n",
      "  the/DT\n",
      "  cactus/NN\n",
      "  or/CC)\n"
     ]
    }
   ],
   "source": [
    "entity = nltk.chunk.ne_chunk(tag)\n",
    "entity.pprint()"
   ]
  },
  {
   "cell_type": "code",
   "execution_count": 15,
   "id": "cdefe4be-d06d-41f8-b555-40376f111926",
   "metadata": {},
   "outputs": [],
   "source": [
    "# Vadar (Valence Aware dictionary and sentiment reasoner) - bag of word approch\n",
    "# we will use NLTK sentimentintensityanalyzer to get the neg/neu/pos score of the text\n",
    "# 1) stop word are removed\n",
    "# 2) each word is scord and combined to a total score"
   ]
  },
  {
   "cell_type": "code",
   "execution_count": 16,
   "id": "19a0df51-341b-45ff-84cc-5b56b70f2079",
   "metadata": {},
   "outputs": [],
   "source": [
    "from nltk.sentiment import SentimentIntensityAnalyzer\n",
    "from tqdm.notebook import tqdm\n",
    "\n",
    "sia = SentimentIntensityAnalyzer()"
   ]
  },
  {
   "cell_type": "code",
   "execution_count": 17,
   "id": "cf364bdf-3cbe-46cc-8090-37612eab396d",
   "metadata": {},
   "outputs": [
    {
     "data": {
      "text/plain": [
       "{'neg': 0.0, 'neu': 0.334, 'pos': 0.666, 'compound': 0.6115}"
      ]
     },
     "execution_count": 17,
     "metadata": {},
     "output_type": "execute_result"
    }
   ],
   "source": [
    "sia.polarity_scores(\"I am so happy\")"
   ]
  },
  {
   "cell_type": "code",
   "execution_count": 18,
   "id": "fb0548c3-6dc0-42ec-97b3-75938c9de51a",
   "metadata": {},
   "outputs": [
    {
     "data": {
      "text/plain": [
       "{'neg': 0.636, 'neu': 0.364, 'pos': 0.0, 'compound': -0.5423}"
      ]
     },
     "execution_count": 18,
     "metadata": {},
     "output_type": "execute_result"
    }
   ],
   "source": [
    "sia.polarity_scores('I feel bad today')"
   ]
  },
  {
   "cell_type": "code",
   "execution_count": 19,
   "id": "d459e7e9-b6b8-46a6-8804-aa3d8b2c963d",
   "metadata": {},
   "outputs": [
    {
     "data": {
      "text/plain": [
       "{'neg': 0.0, 'neu': 0.707, 'pos': 0.293, 'compound': 0.4404}"
      ]
     },
     "execution_count": 19,
     "metadata": {},
     "output_type": "execute_result"
    }
   ],
   "source": [
    "sia.polarity_scores('My manager told me you are good person')"
   ]
  },
  {
   "cell_type": "code",
   "execution_count": 20,
   "id": "f7954cca-afe6-405c-bdf6-8eff0ed5aeb8",
   "metadata": {},
   "outputs": [
    {
     "data": {
      "text/plain": [
       "\"I don't know if it's the cactus or the tequila or just the unique combination of ingredients, but the flavour of this hot sauce makes it one of a kind!  We picked up a bottle once on a trip we were on and brought it back home with us and were totally blown away!  When we realized that we simply couldn't find it anywhere in our city we were bummed.<br /><br />Now, because of the magic of the internet, we have a case of the sauce and are ecstatic because of it.<br /><br />If you love hot sauce..I mean really love hot sauce, but don't want a sauce that tastelessly burns your throat, grab a bottle of Tequila Picante Gourmet de Inclan.  Just realize that once you taste it, you will never want to use any other sauce.<br /><br />Thank you for the personal, incredible service!\""
      ]
     },
     "execution_count": 20,
     "metadata": {},
     "output_type": "execute_result"
    }
   ],
   "source": [
    "ex"
   ]
  },
  {
   "cell_type": "code",
   "execution_count": 21,
   "id": "4266d63e-22f4-4a0a-899e-af04ed6932c6",
   "metadata": {},
   "outputs": [
    {
     "data": {
      "text/plain": [
       "{'neg': 0.017, 'neu': 0.846, 'pos': 0.137, 'compound': 0.9746}"
      ]
     },
     "execution_count": 21,
     "metadata": {},
     "output_type": "execute_result"
    }
   ],
   "source": [
    "sia.polarity_scores(ex)"
   ]
  },
  {
   "cell_type": "code",
   "execution_count": 22,
   "id": "7d0a33b2-d5ef-429f-bef7-135b97b4bd17",
   "metadata": {},
   "outputs": [
    {
     "data": {
      "text/html": [
       "<div>\n",
       "<style scoped>\n",
       "    .dataframe tbody tr th:only-of-type {\n",
       "        vertical-align: middle;\n",
       "    }\n",
       "\n",
       "    .dataframe tbody tr th {\n",
       "        vertical-align: top;\n",
       "    }\n",
       "\n",
       "    .dataframe thead th {\n",
       "        text-align: right;\n",
       "    }\n",
       "</style>\n",
       "<table border=\"1\" class=\"dataframe\">\n",
       "  <thead>\n",
       "    <tr style=\"text-align: right;\">\n",
       "      <th></th>\n",
       "      <th>Id</th>\n",
       "      <th>ProductId</th>\n",
       "      <th>UserId</th>\n",
       "      <th>ProfileName</th>\n",
       "      <th>HelpfulnessNumerator</th>\n",
       "      <th>HelpfulnessDenominator</th>\n",
       "      <th>Score</th>\n",
       "      <th>Time</th>\n",
       "      <th>Summary</th>\n",
       "      <th>Text</th>\n",
       "    </tr>\n",
       "  </thead>\n",
       "  <tbody>\n",
       "    <tr>\n",
       "      <th>0</th>\n",
       "      <td>1</td>\n",
       "      <td>B001E4KFG0</td>\n",
       "      <td>A3SGXH7AUHU8GW</td>\n",
       "      <td>delmartian</td>\n",
       "      <td>1</td>\n",
       "      <td>1</td>\n",
       "      <td>5</td>\n",
       "      <td>1303862400</td>\n",
       "      <td>Good Quality Dog Food</td>\n",
       "      <td>I have bought several of the Vitality canned d...</td>\n",
       "    </tr>\n",
       "    <tr>\n",
       "      <th>1</th>\n",
       "      <td>2</td>\n",
       "      <td>B00813GRG4</td>\n",
       "      <td>A1D87F6ZCVE5NK</td>\n",
       "      <td>dll pa</td>\n",
       "      <td>0</td>\n",
       "      <td>0</td>\n",
       "      <td>1</td>\n",
       "      <td>1346976000</td>\n",
       "      <td>Not as Advertised</td>\n",
       "      <td>Product arrived labeled as Jumbo Salted Peanut...</td>\n",
       "    </tr>\n",
       "    <tr>\n",
       "      <th>2</th>\n",
       "      <td>3</td>\n",
       "      <td>B000LQOCH0</td>\n",
       "      <td>ABXLMWJIXXAIN</td>\n",
       "      <td>Natalia Corres \"Natalia Corres\"</td>\n",
       "      <td>1</td>\n",
       "      <td>1</td>\n",
       "      <td>4</td>\n",
       "      <td>1219017600</td>\n",
       "      <td>\"Delight\" says it all</td>\n",
       "      <td>This is a confection that has been around a fe...</td>\n",
       "    </tr>\n",
       "    <tr>\n",
       "      <th>3</th>\n",
       "      <td>4</td>\n",
       "      <td>B000UA0QIQ</td>\n",
       "      <td>A395BORC6FGVXV</td>\n",
       "      <td>Karl</td>\n",
       "      <td>3</td>\n",
       "      <td>3</td>\n",
       "      <td>2</td>\n",
       "      <td>1307923200</td>\n",
       "      <td>Cough Medicine</td>\n",
       "      <td>If you are looking for the secret ingredient i...</td>\n",
       "    </tr>\n",
       "    <tr>\n",
       "      <th>4</th>\n",
       "      <td>5</td>\n",
       "      <td>B006K2ZZ7K</td>\n",
       "      <td>A1UQRSCLF8GW1T</td>\n",
       "      <td>Michael D. Bigham \"M. Wassir\"</td>\n",
       "      <td>0</td>\n",
       "      <td>0</td>\n",
       "      <td>5</td>\n",
       "      <td>1350777600</td>\n",
       "      <td>Great taffy</td>\n",
       "      <td>Great taffy at a great price.  There was a wid...</td>\n",
       "    </tr>\n",
       "  </tbody>\n",
       "</table>\n",
       "</div>"
      ],
      "text/plain": [
       "   Id   ProductId          UserId                      ProfileName  \\\n",
       "0   1  B001E4KFG0  A3SGXH7AUHU8GW                       delmartian   \n",
       "1   2  B00813GRG4  A1D87F6ZCVE5NK                           dll pa   \n",
       "2   3  B000LQOCH0   ABXLMWJIXXAIN  Natalia Corres \"Natalia Corres\"   \n",
       "3   4  B000UA0QIQ  A395BORC6FGVXV                             Karl   \n",
       "4   5  B006K2ZZ7K  A1UQRSCLF8GW1T    Michael D. Bigham \"M. Wassir\"   \n",
       "\n",
       "   HelpfulnessNumerator  HelpfulnessDenominator  Score        Time  \\\n",
       "0                     1                       1      5  1303862400   \n",
       "1                     0                       0      1  1346976000   \n",
       "2                     1                       1      4  1219017600   \n",
       "3                     3                       3      2  1307923200   \n",
       "4                     0                       0      5  1350777600   \n",
       "\n",
       "                 Summary                                               Text  \n",
       "0  Good Quality Dog Food  I have bought several of the Vitality canned d...  \n",
       "1      Not as Advertised  Product arrived labeled as Jumbo Salted Peanut...  \n",
       "2  \"Delight\" says it all  This is a confection that has been around a fe...  \n",
       "3         Cough Medicine  If you are looking for the secret ingredient i...  \n",
       "4            Great taffy  Great taffy at a great price.  There was a wid...  "
      ]
     },
     "execution_count": 22,
     "metadata": {},
     "output_type": "execute_result"
    }
   ],
   "source": [
    "## run the polarity score on the entire dataset\n",
    "df.head(5)"
   ]
  },
  {
   "cell_type": "code",
   "execution_count": 23,
   "id": "599ae553-f0fc-46cd-ac0a-301216f6d740",
   "metadata": {},
   "outputs": [
    {
     "data": {
      "application/vnd.jupyter.widget-view+json": {
       "model_id": "e0528c0b26ee47beb592ab2739209fdf",
       "version_major": 2,
       "version_minor": 0
      },
      "text/plain": [
       "  0%|          | 0/2500 [00:00<?, ?it/s]"
      ]
     },
     "metadata": {},
     "output_type": "display_data"
    }
   ],
   "source": [
    "res = {}\n",
    "\n",
    "for i, row in tqdm(df.iterrows(), total=len(df)):\n",
    "    text = row['Text']\n",
    "    myid = row['Id']\n",
    "    res[myid] = sia.polarity_scores(text)"
   ]
  },
  {
   "cell_type": "code",
   "execution_count": 24,
   "id": "94a11f30-db1d-4479-b2bf-d4eb3f7c069b",
   "metadata": {},
   "outputs": [],
   "source": [
    "vader=pd.DataFrame(res).T\n",
    "vaders = vader.reset_index().rename(columns={'index': 'Id'})\n",
    "vaders = vaders.merge(df, on='Id', how='left')"
   ]
  },
  {
   "cell_type": "code",
   "execution_count": 25,
   "id": "567b9858-0888-4a86-a3d1-fde377351925",
   "metadata": {},
   "outputs": [
    {
     "data": {
      "text/html": [
       "<div>\n",
       "<style scoped>\n",
       "    .dataframe tbody tr th:only-of-type {\n",
       "        vertical-align: middle;\n",
       "    }\n",
       "\n",
       "    .dataframe tbody tr th {\n",
       "        vertical-align: top;\n",
       "    }\n",
       "\n",
       "    .dataframe thead th {\n",
       "        text-align: right;\n",
       "    }\n",
       "</style>\n",
       "<table border=\"1\" class=\"dataframe\">\n",
       "  <thead>\n",
       "    <tr style=\"text-align: right;\">\n",
       "      <th></th>\n",
       "      <th>Id</th>\n",
       "      <th>neg</th>\n",
       "      <th>neu</th>\n",
       "      <th>pos</th>\n",
       "      <th>compound</th>\n",
       "      <th>ProductId</th>\n",
       "      <th>UserId</th>\n",
       "      <th>ProfileName</th>\n",
       "      <th>HelpfulnessNumerator</th>\n",
       "      <th>HelpfulnessDenominator</th>\n",
       "      <th>Score</th>\n",
       "      <th>Time</th>\n",
       "      <th>Summary</th>\n",
       "      <th>Text</th>\n",
       "    </tr>\n",
       "  </thead>\n",
       "  <tbody>\n",
       "    <tr>\n",
       "      <th>0</th>\n",
       "      <td>1</td>\n",
       "      <td>0.000</td>\n",
       "      <td>0.695</td>\n",
       "      <td>0.305</td>\n",
       "      <td>0.9441</td>\n",
       "      <td>B001E4KFG0</td>\n",
       "      <td>A3SGXH7AUHU8GW</td>\n",
       "      <td>delmartian</td>\n",
       "      <td>1</td>\n",
       "      <td>1</td>\n",
       "      <td>5</td>\n",
       "      <td>1303862400</td>\n",
       "      <td>Good Quality Dog Food</td>\n",
       "      <td>I have bought several of the Vitality canned d...</td>\n",
       "    </tr>\n",
       "    <tr>\n",
       "      <th>1</th>\n",
       "      <td>2</td>\n",
       "      <td>0.138</td>\n",
       "      <td>0.862</td>\n",
       "      <td>0.000</td>\n",
       "      <td>-0.5664</td>\n",
       "      <td>B00813GRG4</td>\n",
       "      <td>A1D87F6ZCVE5NK</td>\n",
       "      <td>dll pa</td>\n",
       "      <td>0</td>\n",
       "      <td>0</td>\n",
       "      <td>1</td>\n",
       "      <td>1346976000</td>\n",
       "      <td>Not as Advertised</td>\n",
       "      <td>Product arrived labeled as Jumbo Salted Peanut...</td>\n",
       "    </tr>\n",
       "    <tr>\n",
       "      <th>2</th>\n",
       "      <td>3</td>\n",
       "      <td>0.091</td>\n",
       "      <td>0.754</td>\n",
       "      <td>0.155</td>\n",
       "      <td>0.8265</td>\n",
       "      <td>B000LQOCH0</td>\n",
       "      <td>ABXLMWJIXXAIN</td>\n",
       "      <td>Natalia Corres \"Natalia Corres\"</td>\n",
       "      <td>1</td>\n",
       "      <td>1</td>\n",
       "      <td>4</td>\n",
       "      <td>1219017600</td>\n",
       "      <td>\"Delight\" says it all</td>\n",
       "      <td>This is a confection that has been around a fe...</td>\n",
       "    </tr>\n",
       "    <tr>\n",
       "      <th>3</th>\n",
       "      <td>4</td>\n",
       "      <td>0.000</td>\n",
       "      <td>1.000</td>\n",
       "      <td>0.000</td>\n",
       "      <td>0.0000</td>\n",
       "      <td>B000UA0QIQ</td>\n",
       "      <td>A395BORC6FGVXV</td>\n",
       "      <td>Karl</td>\n",
       "      <td>3</td>\n",
       "      <td>3</td>\n",
       "      <td>2</td>\n",
       "      <td>1307923200</td>\n",
       "      <td>Cough Medicine</td>\n",
       "      <td>If you are looking for the secret ingredient i...</td>\n",
       "    </tr>\n",
       "    <tr>\n",
       "      <th>4</th>\n",
       "      <td>5</td>\n",
       "      <td>0.000</td>\n",
       "      <td>0.552</td>\n",
       "      <td>0.448</td>\n",
       "      <td>0.9468</td>\n",
       "      <td>B006K2ZZ7K</td>\n",
       "      <td>A1UQRSCLF8GW1T</td>\n",
       "      <td>Michael D. Bigham \"M. Wassir\"</td>\n",
       "      <td>0</td>\n",
       "      <td>0</td>\n",
       "      <td>5</td>\n",
       "      <td>1350777600</td>\n",
       "      <td>Great taffy</td>\n",
       "      <td>Great taffy at a great price.  There was a wid...</td>\n",
       "    </tr>\n",
       "  </tbody>\n",
       "</table>\n",
       "</div>"
      ],
      "text/plain": [
       "   Id    neg    neu    pos  compound   ProductId          UserId  \\\n",
       "0   1  0.000  0.695  0.305    0.9441  B001E4KFG0  A3SGXH7AUHU8GW   \n",
       "1   2  0.138  0.862  0.000   -0.5664  B00813GRG4  A1D87F6ZCVE5NK   \n",
       "2   3  0.091  0.754  0.155    0.8265  B000LQOCH0   ABXLMWJIXXAIN   \n",
       "3   4  0.000  1.000  0.000    0.0000  B000UA0QIQ  A395BORC6FGVXV   \n",
       "4   5  0.000  0.552  0.448    0.9468  B006K2ZZ7K  A1UQRSCLF8GW1T   \n",
       "\n",
       "                       ProfileName  HelpfulnessNumerator  \\\n",
       "0                       delmartian                     1   \n",
       "1                           dll pa                     0   \n",
       "2  Natalia Corres \"Natalia Corres\"                     1   \n",
       "3                             Karl                     3   \n",
       "4    Michael D. Bigham \"M. Wassir\"                     0   \n",
       "\n",
       "   HelpfulnessDenominator  Score        Time                Summary  \\\n",
       "0                       1      5  1303862400  Good Quality Dog Food   \n",
       "1                       0      1  1346976000      Not as Advertised   \n",
       "2                       1      4  1219017600  \"Delight\" says it all   \n",
       "3                       3      2  1307923200         Cough Medicine   \n",
       "4                       0      5  1350777600            Great taffy   \n",
       "\n",
       "                                                Text  \n",
       "0  I have bought several of the Vitality canned d...  \n",
       "1  Product arrived labeled as Jumbo Salted Peanut...  \n",
       "2  This is a confection that has been around a fe...  \n",
       "3  If you are looking for the secret ingredient i...  \n",
       "4  Great taffy at a great price.  There was a wid...  "
      ]
     },
     "execution_count": 25,
     "metadata": {},
     "output_type": "execute_result"
    }
   ],
   "source": [
    "vaders.head(5)"
   ]
  },
  {
   "cell_type": "code",
   "execution_count": 26,
   "id": "30f9e7d2-a889-42b4-919f-8ba5726ad9a6",
   "metadata": {},
   "outputs": [
    {
     "data": {
      "image/png": "[encoded data removed]",
      "text/plain": [
       "<Figure size 1200x300 with 3 Axes>"
      ]
     },
     "metadata": {},
     "output_type": "display_data"
    }
   ],
   "source": [
    "fig, axs=plt.subplots(1,3, figsize=(12,3))\n",
    "sns.barplot(data=vaders, x='Score', y='pos', ax=axs[0], color = 'Green')\n",
    "sns.barplot(data=vaders, x='Score', y='neu', ax=axs[1], color = 'Blue')\n",
    "sns.barplot(data=vaders, x='Score', y='neg', ax=axs[2], color = 'Red')\n",
    "axs[0].set_title('Positive')\n",
    "axs[1].set_title('Neutral')\n",
    "axs[2].set_title('Negative')\n",
    "plt.tight_layout()\n",
    "plt.show()"
   ]
  },
  {
   "cell_type": "code",
   "execution_count": 27,
   "id": "ed8c533c-1ed9-4aeb-83cb-9b763eaa8e39",
   "metadata": {},
   "outputs": [],
   "source": [
    "## step 3 = Roberta Pretrained Model\n",
    "# Use model trained of a large corpus of data\n",
    "# Transformer model accounts for the word but also the context related to the other words"
   ]
  },
  {
   "cell_type": "code",
   "execution_count": 28,
   "id": "a928ff0a-756a-48d6-bab0-fded0f4917fd",
   "metadata": {},
   "outputs": [],
   "source": [
    "from transformers import AutoTokenizer, AutoModelForSequenceClassification\n",
    "from scipy.special import softmax"
   ]
  },
  {
   "cell_type": "code",
   "execution_count": 29,
   "id": "95a56cf6-314d-4e26-8bd8-05bd9bd5abf8",
   "metadata": {},
   "outputs": [
    {
     "name": "stderr",
     "output_type": "stream",
     "text": [
      "Some weights of the model checkpoint at cardiffnlp/twitter-roberta-base-sentiment-latest were not used when initializing RobertaForSequenceClassification: ['roberta.pooler.dense.bias', 'roberta.pooler.dense.weight']\n",
      "- This IS expected if you are initializing RobertaForSequenceClassification from the checkpoint of a model trained on another task or with another architecture (e.g. initializing a BertForSequenceClassification model from a BertForPreTraining model).\n",
      "- This IS NOT expected if you are initializing RobertaForSequenceClassification from the checkpoint of a model that you expect to be exactly identical (initializing a BertForSequenceClassification model from a BertForSequenceClassification model).\n"
     ]
    }
   ],
   "source": [
    "#!pip install torch\n",
    "\n",
    "Model = f\"cardiffnlp/twitter-roberta-base-sentiment-latest\"\n",
    "tokenizer = AutoTokenizer.from_pretrained(Model)\n",
    "model = AutoModelForSequenceClassification.from_pretrained(Model)"
   ]
  },
  {
   "cell_type": "code",
   "execution_count": 30,
   "id": "a110a32e-748e-473a-99d6-bbc927c599dc",
   "metadata": {},
   "outputs": [
    {
     "name": "stdout",
     "output_type": "stream",
     "text": [
      "I don't know if it's the cactus or the tequila or just the unique combination of ingredients, but the flavour of this hot sauce makes it one of a kind!  We picked up a bottle once on a trip we were on and brought it back home with us and were totally blown away!  When we realized that we simply couldn't find it anywhere in our city we were bummed.<br /><br />Now, because of the magic of the internet, we have a case of the sauce and are ecstatic because of it.<br /><br />If you love hot sauce..I mean really love hot sauce, but don't want a sauce that tastelessly burns your throat, grab a bottle of Tequila Picante Gourmet de Inclan.  Just realize that once you taste it, you will never want to use any other sauce.<br /><br />Thank you for the personal, incredible service!\n"
     ]
    },
    {
     "data": {
      "text/plain": [
       "{'neg': 0.017, 'neu': 0.846, 'pos': 0.137, 'compound': 0.9746}"
      ]
     },
     "execution_count": 30,
     "metadata": {},
     "output_type": "execute_result"
    }
   ],
   "source": [
    "## Vadar Example\n",
    "print(ex)\n",
    "sia.polarity_scores(ex)"
   ]
  },
  {
   "cell_type": "code",
   "execution_count": 31,
   "id": "6928337b-47bc-49fe-8b48-ca22b31c7e90",
   "metadata": {},
   "outputs": [
    {
     "name": "stdout",
     "output_type": "stream",
     "text": [
      "{'roberta_neg': 0.01753518, 'roberta_neu': 0.061356384, 'roberta_pos': 0.9211084}\n"
     ]
    }
   ],
   "source": [
    "encoded_txt = tokenizer(ex, return_tensors='pt')\n",
    "output=model(**encoded_txt)\n",
    "score=output[0][0].detach().numpy()\n",
    "score=softmax(score)\n",
    "score_dict = {\n",
    "    'roberta_neg':score[0],\n",
    "    'roberta_neu':score[1],\n",
    "    'roberta_pos':score[2]\n",
    "}\n",
    "print(score_dict)"
   ]
  },
  {
   "cell_type": "code",
   "execution_count": 32,
   "id": "153656a8-2237-4fcc-b69b-bce85541735e",
   "metadata": {},
   "outputs": [],
   "source": [
    "def polarity_scores_roberta(ex):\n",
    "    encoded_txt = tokenizer(ex, return_tensors='pt')\n",
    "    output=model(**encoded_txt)\n",
    "    score=output[0][0].detach().numpy()\n",
    "    score=softmax(score)\n",
    "    score_dict = {\n",
    "        'roberta_neg':score[0],\n",
    "        'roberta_neu':score[1],\n",
    "        'roberta_pos':score[2]\n",
    "    }\n",
    "    return score_dict"
   ]
  },
  {
   "cell_type": "code",
   "execution_count": 33,
   "id": "803712ef-4ead-4a0d-803b-6a951e2c8949",
   "metadata": {},
   "outputs": [],
   "source": [
    "import torch\n",
    "from scipy.special import softmax\n",
    "\n",
    "# Define the device\n",
    "device = torch.device(\"cuda\" if torch.cuda.is_available() else \"cpu\")\n",
    "\n",
    "# Move the model to the device\n",
    "model = model.to(device)\n",
    "\n",
    "def polarity_scores_roberta(ex):\n",
    "    encoded_txt = tokenizer(\n",
    "        ex,\n",
    "        return_tensors='pt',\n",
    "        truncation=True,\n",
    "        max_length=512,\n",
    "        padding=True\n",
    "    )\n",
    "    encoded_txt = {k: v.to(device) for k, v in encoded_txt.items()}  # Move input to device\n",
    "\n",
    "    output = model(**encoded_txt)\n",
    "    score = output.logits[0].detach().cpu().numpy()\n",
    "    score = softmax(score)\n",
    "\n",
    "    return {\n",
    "        'roberta_neg': score[0],\n",
    "        'roberta_neu': score[1],\n",
    "        'roberta_pos': score[2]\n",
    "    }\n"
   ]
  },
  {
   "cell_type": "code",
   "execution_count": null,
   "id": "66ada674-cfac-4229-b046-f08ade3625b2",
   "metadata": {},
   "outputs": [
    {
     "data": {
      "application/vnd.jupyter.widget-view+json": {
       "model_id": "db2db452075e401696ec2d6114606ad9",
       "version_major": 2,
       "version_minor": 0
      },
      "text/plain": [
       "  0%|          | 0/2500 [00:00<?, ?it/s]"
      ]
     },
     "metadata": {},
     "output_type": "display_data"
    }
   ],
   "source": [
    "res = {}\n",
    "\n",
    "for i, row in tqdm(df.iterrows(), total=len(df)):\n",
    "    text = row['Text']\n",
    "    myid = row['Id']\n",
    "    vedar_result = sia.polarity_scores(text)\n",
    "    vedar_result_rename= {}\n",
    "    for key, value in vedar_result.items():\n",
    "        vedar_result_rename[f\"vader_{key}\"]=value\n",
    "    roberta_result = polarity_scores_roberta(text)\n",
    "    both={**vedar_result_rename, **roberta_result}\n",
    "    res[myid] = both"
   ]
  },
  {
   "cell_type": "code",
   "execution_count": null,
   "id": "858d7583-c745-47d1-b82e-ab1d49c5e141",
   "metadata": {},
   "outputs": [],
   "source": [
    "result_df=pd.DataFrame(res).T\n",
    "result_df = result_df.reset_index().rename(columns={'index': 'Id'})\n",
    "result_df = result_df.merge(df, on='Id', how='left')"
   ]
  },
  {
   "cell_type": "code",
   "execution_count": null,
   "id": "bdfe8599-466b-4e34-9a5c-ee1822459119",
   "metadata": {},
   "outputs": [],
   "source": [
    "result_df.head(3)"
   ]
  },
  {
   "cell_type": "code",
   "execution_count": null,
   "id": "52127298-5fbd-48f9-8a93-eedbed0b837f",
   "metadata": {},
   "outputs": [],
   "source": [
    "result_df.query('Score == 1')\\\n",
    ".sort_values('roberta_neg', ascending=False)['Text'].values[0]"
   ]
  },
  {
   "cell_type": "code",
   "execution_count": null,
   "id": "8f52524c-4aec-44e9-b956-14df4558984e",
   "metadata": {},
   "outputs": [],
   "source": [
    "from transformers import pipeline\n",
    "\n",
    "sent_pipeline = pipeline('sentiment-analysis', framework='pt')"
   ]
  },
  {
   "cell_type": "code",
   "execution_count": null,
   "id": "9add3111-79f5-454c-9197-409173d34919",
   "metadata": {},
   "outputs": [],
   "source": [
    "sent_pipeline('I love to eat food')"
   ]
  },
  {
   "cell_type": "code",
   "execution_count": null,
   "id": "fac00d78-78fb-4f18-8aba-eed033d4a1db",
   "metadata": {},
   "outputs": [],
   "source": [
    "sent_pipeline('Boooo')"
   ]
  },
  {
   "cell_type": "code",
   "execution_count": null,
   "id": "d4afe5c6-b882-46df-b363-9931e111541d",
   "metadata": {},
   "outputs": [],
   "source": [
    "sent_pipeline('These condiments are overpriced and terrible.The classic is disgustingly sweet. The spiced tastes like a bad spicy marinara sauce from a chain restaurant.')"
   ]
  },
  {
   "cell_type": "code",
   "execution_count": null,
   "id": "14a8e1f4-75c8-41ac-a0c3-141bc20d2403",
   "metadata": {},
   "outputs": [],
   "source": [
    "from transformers import pipeline\n",
    "\n",
    "\n",
    "sent_pipeline = pipeline(\n",
    "    \"sentiment-analysis\", \n",
    "    model=\"distilbert-base-uncased-finetuned-sst-2-english\", \n",
    "    framework=\"pt\"\n",
    ")\n",
    "\n",
    "# Save model and tokenizer\n",
    "sent_pipeline.model.save_pretrained(\"./sentiment_model\")\n",
    "sent_pipeline.tokenizer.save_pretrained(\"./sentiment_model\")"
   ]
  },
  {
   "cell_type": "code",
   "execution_count": null,
   "id": "72ce0444-5b56-4064-8875-9eb5974ac653",
   "metadata": {},
   "outputs": [],
   "source": []
  },
  {
   "cell_type": "code",
   "execution_count": null,
   "id": "7c7628d9-7d1d-429d-bf11-c89565112fdc",
   "metadata": {},
   "outputs": [],
   "source": []
  }
 ],
 "metadata": {
  "kernelspec": {
   "display_name": "Python 3 (ipykernel)",
   "language": "python",
   "name": "python3"
  },
  "language_info": {
   "codemirror_mode": {
    "name": "ipython",
    "version": 3
   },
   "file_extension": ".py",
   "mimetype": "text/x-python",
   "name": "python",
   "nbconvert_exporter": "python",
   "pygments_lexer": "ipython3",
   "version": "3.11.5"
  }
 },
 "nbformat": 4,
 "nbformat_minor": 5
}
